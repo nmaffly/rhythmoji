{
  "nbformat": 4,
  "nbformat_minor": 0,
  "metadata": {
    "colab": {
      "provenance": [],
      "mount_file_id": "1kxjrAsf4uNaDb8xaVgy6Ss3KTPtG9cvA",
      "authorship_tag": "ABX9TyPs9+PlR6caaBK/Ujtc7XgH",
      "include_colab_link": true
    },
    "kernelspec": {
      "name": "python3",
      "display_name": "Python 3"
    },
    "language_info": {
      "name": "python"
    }
  },
  "cells": [
    {
      "cell_type": "markdown",
      "metadata": {
        "id": "view-in-github",
        "colab_type": "text"
      },
      "source": [
        "<a href=\"https://colab.research.google.com/github/nmaffly/rhythmoji/blob/main/rhythmoji.ipynb\" target=\"_parent\"><img src=\"https://colab.research.google.com/assets/colab-badge.svg\" alt=\"Open In Colab\"/></a>"
      ]
    },
    {
      "cell_type": "code",
      "source": [
        "import pandas as pd\n",
        "from sklearn.model_selection import train_test_split\n",
        "from sklearn.preprocessing import OneHotEncoder, StandardScaler\n",
        "from tensorflow.keras.utils import to_categorical\n",
        "from tensorflow.keras.models import Model\n",
        "from tensorflow.keras.layers import Input, Dense, Dropout, BatchNormalization\n",
        "from tensorflow.keras.callbacks import EarlyStopping\n",
        "import numpy as np\n",
        "\n",
        "# Load the dataset\n",
        "file_path = '/content/enhanced_fashion_dataset (1).csv'  # Replace with your file path\n",
        "data = pd.read_csv(file_path)\n",
        "\n",
        "# One-hot encode the genre columns\n",
        "genre_encoder = OneHotEncoder(sparse=False, handle_unknown='ignore')\n",
        "genre_features = genre_encoder.fit_transform(data[['Genre_1', 'Genre_2', 'Genre_3']])\n",
        "\n",
        "# Normalize your input features\n",
        "scaler = StandardScaler()\n",
        "genre_features_scaled = scaler.fit_transform(genre_features)\n",
        "\n",
        "# Determine the number of features in X_train\n",
        "num_features = genre_features_scaled.shape[1]\n",
        "\n",
        "target_columns = ['Shirt', 'Shoes', 'Sweater', 'Pants', 'Accessories']\n",
        "\n",
        "# Global factorization and one-hot encoding\n",
        "factorized_targets = {col: pd.factorize(data[col])[0] for col in target_columns}\n",
        "num_categories = {col: len(set(factorized_targets[col])) for col in target_columns}\n",
        "Y = {col: to_categorical(factorized_targets[col], num_classes=num_categories[col]) for col in target_columns}\n",
        "\n",
        "# Reformat target data\n",
        "Y_combined = list(zip(*[Y[col] for col in target_columns]))\n",
        "\n",
        "# Split the dataset\n",
        "X_train, X_test, Y_train_combined, Y_test_combined = train_test_split(genre_features_scaled, Y_combined, test_size=0.2, random_state=42)\n",
        "\n",
        "# Convert the tuples back into separate arrays for training the model\n",
        "Y_train = {col: np.array([y[i] for y in Y_train_combined]) for i, col in enumerate(target_columns)}\n",
        "Y_test = {col: np.array([y[i] for y in Y_test_combined]) for i, col in enumerate(target_columns)}\n"
      ],
      "metadata": {
        "colab": {
          "base_uri": "https://localhost:8080/"
        },
        "id": "m-CI5Hh1bhbN",
        "outputId": "cea386d6-11c1-4c17-815c-6e9ad9c48b32"
      },
      "execution_count": 3,
      "outputs": [
        {
          "output_type": "stream",
          "name": "stderr",
          "text": [
            "/usr/local/lib/python3.10/dist-packages/sklearn/preprocessing/_encoders.py:868: FutureWarning: `sparse` was renamed to `sparse_output` in version 1.2 and will be removed in 1.4. `sparse_output` is ignored unless you leave `sparse` to its default value.\n",
            "  warnings.warn(\n"
          ]
        }
      ]
    },
    {
      "cell_type": "code",
      "source": [
        "num_categories[col]"
      ],
      "metadata": {
        "colab": {
          "base_uri": "https://localhost:8080/"
        },
        "id": "1Pyw47l7kfpN",
        "outputId": "9f526c74-15c3-4caa-96ab-f0d6386db559"
      },
      "execution_count": 20,
      "outputs": [
        {
          "output_type": "execute_result",
          "data": {
            "text/plain": [
              "367"
            ]
          },
          "metadata": {},
          "execution_count": 20
        }
      ]
    },
    {
      "cell_type": "code",
      "execution_count": 5,
      "metadata": {
        "id": "U97u4WCQu-yy"
      },
      "outputs": [],
      "source": [
        "from tensorflow.keras.layers import Dense, BatchNormalization, Dropout\n",
        "\n",
        "# Assuming num_features is already defined from your previous code\n",
        "input_layer = Input(shape=(num_features,))\n",
        "\n",
        "# Neural network layers\n",
        "x = Dense(256, activation='relu')(input_layer)  # More neurons\n",
        "x = BatchNormalization()(x)  # Batch Normalization\n",
        "x = Dropout(0.3)(x)  # Adjust dropout rate\n",
        "x = Dense(128, activation='relu')(x)  # Additional layer\n",
        "x = Dropout(0.3)(x)\n",
        "output_layers = [Dense(num_categories[col], activation='softmax')(x) for col in target_columns]\n",
        "\n",
        "model = Model(inputs=input_layer, outputs=output_layers)\n",
        "\n",
        "# Compile the model\n",
        "model.compile(optimizer='adam', loss='categorical_crossentropy', metrics=['accuracy'])\n"
      ]
    },
    {
      "cell_type": "code",
      "source": [
        "# Early Stopping\n",
        "early_stopping = EarlyStopping(monitor='val_loss', patience=5, restore_best_weights=True)\n",
        "\n",
        "# Fit the model\n",
        "history = model.fit(\n",
        "    X_train, list(Y_train.values()),\n",
        "    epochs=100,\n",
        "    batch_size=32,\n",
        "    validation_split=0.2,\n",
        "    callbacks=[early_stopping],\n",
        "    verbose=1\n",
        ")\n"
      ],
      "metadata": {
        "id": "y2C4e2t60pg-",
        "colab": {
          "base_uri": "https://localhost:8080/"
        },
        "outputId": "b31df381-cf61-413d-ea10-c6aab783e0ee"
      },
      "execution_count": 12,
      "outputs": [
        {
          "output_type": "stream",
          "name": "stdout",
          "text": [
            "Epoch 1/100\n",
            "8/8 [==============================] - 0s 28ms/step - loss: 27.5646 - dense_3_loss: 5.4737 - dense_4_loss: 5.5191 - dense_5_loss: 5.5342 - dense_6_loss: 5.5393 - dense_7_loss: 5.4982 - dense_3_accuracy: 0.0312 - dense_4_accuracy: 0.0234 - dense_5_accuracy: 0.0234 - dense_6_accuracy: 0.0195 - dense_7_accuracy: 0.0195 - val_loss: 30.4406 - val_dense_3_loss: 6.0405 - val_dense_4_loss: 6.0702 - val_dense_5_loss: 6.0842 - val_dense_6_loss: 6.1226 - val_dense_7_loss: 6.1231 - val_dense_3_accuracy: 0.0000e+00 - val_dense_4_accuracy: 0.0000e+00 - val_dense_5_accuracy: 0.0000e+00 - val_dense_6_accuracy: 0.0000e+00 - val_dense_7_accuracy: 0.0000e+00\n",
            "Epoch 2/100\n",
            "8/8 [==============================] - 0s 17ms/step - loss: 25.6541 - dense_3_loss: 5.1811 - dense_4_loss: 5.1093 - dense_5_loss: 5.0943 - dense_6_loss: 5.1168 - dense_7_loss: 5.1526 - dense_3_accuracy: 0.0430 - dense_4_accuracy: 0.0508 - dense_5_accuracy: 0.0625 - dense_6_accuracy: 0.0664 - dense_7_accuracy: 0.0508 - val_loss: 30.8990 - val_dense_3_loss: 6.1228 - val_dense_4_loss: 6.1597 - val_dense_5_loss: 6.1717 - val_dense_6_loss: 6.2239 - val_dense_7_loss: 6.2210 - val_dense_3_accuracy: 0.0000e+00 - val_dense_4_accuracy: 0.0000e+00 - val_dense_5_accuracy: 0.0000e+00 - val_dense_6_accuracy: 0.0000e+00 - val_dense_7_accuracy: 0.0000e+00\n",
            "Epoch 3/100\n",
            "8/8 [==============================] - 0s 21ms/step - loss: 24.0188 - dense_3_loss: 4.7822 - dense_4_loss: 4.8398 - dense_5_loss: 4.8434 - dense_6_loss: 4.7270 - dense_7_loss: 4.8264 - dense_3_accuracy: 0.1094 - dense_4_accuracy: 0.0820 - dense_5_accuracy: 0.0977 - dense_6_accuracy: 0.1016 - dense_7_accuracy: 0.0742 - val_loss: 31.3956 - val_dense_3_loss: 6.2128 - val_dense_4_loss: 6.2543 - val_dense_5_loss: 6.2676 - val_dense_6_loss: 6.3361 - val_dense_7_loss: 6.3249 - val_dense_3_accuracy: 0.0000e+00 - val_dense_4_accuracy: 0.0000e+00 - val_dense_5_accuracy: 0.0000e+00 - val_dense_6_accuracy: 0.0000e+00 - val_dense_7_accuracy: 0.0000e+00\n",
            "Epoch 4/100\n",
            "8/8 [==============================] - 0s 31ms/step - loss: 22.2406 - dense_3_loss: 4.4131 - dense_4_loss: 4.4437 - dense_5_loss: 4.5361 - dense_6_loss: 4.3777 - dense_7_loss: 4.4700 - dense_3_accuracy: 0.1602 - dense_4_accuracy: 0.1914 - dense_5_accuracy: 0.1328 - dense_6_accuracy: 0.1641 - dense_7_accuracy: 0.1445 - val_loss: 31.8937 - val_dense_3_loss: 6.3044 - val_dense_4_loss: 6.3477 - val_dense_5_loss: 6.3632 - val_dense_6_loss: 6.4477 - val_dense_7_loss: 6.4306 - val_dense_3_accuracy: 0.0000e+00 - val_dense_4_accuracy: 0.0000e+00 - val_dense_5_accuracy: 0.0000e+00 - val_dense_6_accuracy: 0.0000e+00 - val_dense_7_accuracy: 0.0000e+00\n",
            "Epoch 5/100\n",
            "8/8 [==============================] - 0s 31ms/step - loss: 20.4453 - dense_3_loss: 4.0776 - dense_4_loss: 4.1247 - dense_5_loss: 4.0937 - dense_6_loss: 4.0905 - dense_7_loss: 4.0588 - dense_3_accuracy: 0.1836 - dense_4_accuracy: 0.2109 - dense_5_accuracy: 0.2188 - dense_6_accuracy: 0.1992 - dense_7_accuracy: 0.2070 - val_loss: 32.3887 - val_dense_3_loss: 6.3956 - val_dense_4_loss: 6.4414 - val_dense_5_loss: 6.4588 - val_dense_6_loss: 6.5559 - val_dense_7_loss: 6.5371 - val_dense_3_accuracy: 0.0000e+00 - val_dense_4_accuracy: 0.0000e+00 - val_dense_5_accuracy: 0.0000e+00 - val_dense_6_accuracy: 0.0000e+00 - val_dense_7_accuracy: 0.0000e+00\n",
            "Epoch 6/100\n",
            "8/8 [==============================] - 0s 29ms/step - loss: 18.8837 - dense_3_loss: 3.8476 - dense_4_loss: 3.7309 - dense_5_loss: 3.7507 - dense_6_loss: 3.7909 - dense_7_loss: 3.7636 - dense_3_accuracy: 0.2500 - dense_4_accuracy: 0.3047 - dense_5_accuracy: 0.2969 - dense_6_accuracy: 0.2734 - dense_7_accuracy: 0.2969 - val_loss: 32.8964 - val_dense_3_loss: 6.4888 - val_dense_4_loss: 6.5381 - val_dense_5_loss: 6.5605 - val_dense_6_loss: 6.6628 - val_dense_7_loss: 6.6462 - val_dense_3_accuracy: 0.0000e+00 - val_dense_4_accuracy: 0.0000e+00 - val_dense_5_accuracy: 0.0000e+00 - val_dense_6_accuracy: 0.0000e+00 - val_dense_7_accuracy: 0.0000e+00\n"
          ]
        }
      ]
    },
    {
      "cell_type": "code",
      "source": [
        "# Evaluate the model\n",
        "evaluations = model.evaluate(X_test, list(Y_test.values()))\n",
        "\n",
        "# Correctly print out the loss and accuracy for each target category\n",
        "for i, col in enumerate(target_columns):\n",
        "    print(f\"Evaluation for {col}: Loss = {evaluations[i * 2]}, Accuracy = {evaluations[i * 2 + 1]}\")\n"
      ],
      "metadata": {
        "id": "HNR6dWpi0rDY",
        "colab": {
          "base_uri": "https://localhost:8080/"
        },
        "outputId": "8034144f-525a-4e16-daf9-ce6cc6c409a1"
      },
      "execution_count": 13,
      "outputs": [
        {
          "output_type": "stream",
          "name": "stdout",
          "text": [
            "3/3 [==============================] - 0s 13ms/step - loss: 30.4366 - dense_3_loss: 6.1414 - dense_4_loss: 6.0619 - dense_5_loss: 6.1184 - dense_6_loss: 6.0211 - dense_7_loss: 6.0939 - dense_3_accuracy: 0.0000e+00 - dense_4_accuracy: 0.0000e+00 - dense_5_accuracy: 0.0000e+00 - dense_6_accuracy: 0.0000e+00 - dense_7_accuracy: 0.0000e+00\n",
            "Evaluation for Shirt: Loss = 30.436609268188477, Accuracy = 6.141395568847656\n",
            "Evaluation for Shoes: Loss = 6.06186056137085, Accuracy = 6.118361473083496\n",
            "Evaluation for Sweater: Loss = 6.021080017089844, Accuracy = 6.093911647796631\n",
            "Evaluation for Pants: Loss = 0.0, Accuracy = 0.0\n",
            "Evaluation for Accessories: Loss = 0.0, Accuracy = 0.0\n"
          ]
        }
      ]
    },
    {
      "cell_type": "code",
      "source": [
        "import numpy as np\n",
        "\n",
        "# Example input genres\n",
        "input_genres = [['Classical', 'Pop', 'Experimental']]  # Replace with your genres\n",
        "\n",
        "\n",
        "# Encoding the input genres\n",
        "input_encoded = genre_encoder.transform(input_genres)\n",
        "\n",
        "# Make predictions\n",
        "predictions = model.predict(input_encoded)\n",
        "\n",
        "# Decoding the predictions\n",
        "predicted_categories = {col: np.argmax(pred, axis=1)[0] for col, pred in zip(target_columns, predictions)}\n",
        "\n",
        "# Mapping numerical predictions back to category names\n",
        "# This step assumes that the categories in the training data are not numerically encoded\n",
        "# If they are, you will need to use the appropriate mapping\n",
        "decoded_predictions = {col: data[col].unique()[predicted_categories[col]] for col in target_columns}\n",
        "\n",
        "# Print out the predicted categories\n",
        "for category, prediction in decoded_predictions.items():\n",
        "    print(f\"Predicted {category}: {prediction}\")\n"
      ],
      "metadata": {
        "colab": {
          "base_uri": "https://localhost:8080/"
        },
        "id": "cs5DVUKUFpRd",
        "outputId": "77382e5e-e0c1-4fa5-b177-38b6185e3486"
      },
      "execution_count": 21,
      "outputs": [
        {
          "output_type": "stream",
          "name": "stdout",
          "text": [
            "1/1 [==============================] - 0s 31ms/step\n",
            "Predicted Shirt: Unique Purple Patterned Shirt\n",
            "Predicted Shoes: Novel Yellow Ankle Boots\n",
            "Predicted Sweater: Relaxed Blue Hoodie\n",
            "Predicted Pants: Earthy Orange Blue Jeans\n",
            "Predicted Accessories: Eclectic Green Baseball Cap\n"
          ]
        },
        {
          "output_type": "stream",
          "name": "stderr",
          "text": [
            "/usr/local/lib/python3.10/dist-packages/sklearn/base.py:439: UserWarning: X does not have valid feature names, but OneHotEncoder was fitted with feature names\n",
            "  warnings.warn(\n"
          ]
        }
      ]
    }
  ]
}